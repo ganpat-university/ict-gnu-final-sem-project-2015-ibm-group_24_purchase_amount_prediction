{
 "cells": [
  {
   "cell_type": "code",
   "execution_count": null,
   "metadata": {
    "_uuid": "a9a706e4a56a9bd042cfc37a4716f70ee62cfb93"
   },
   "outputs": [],
   "source": [
    "## Import packages and Read Dataset\n",
    "import sys\n",
    "import numpy as np\n",
    "import pandas as pd\n",
    "import xgboost as xgb\n",
    "\n",
    "from sklearn.preprocessing import LabelEncoder\n",
    "\n",
    "dataset = pd.read_csv(\"train.csv\")\n",
    "print(len(dataset))\n",
    "dataset.head()"
   ]
  },
  {
   "cell_type": "code",
   "execution_count": null,
   "metadata": {},
   "outputs": [],
   "source": [
    "## Baseline Performance Model\n",
    "meanVal = sum(dataset['Purchase'])/len(dataset['Purchase'])\n",
    "rmse = 0\n",
    "count = 0\n",
    "for i in dataset['Purchase']:\n",
    "    rmse += (i - meanVal)**2\n",
    "    count+=1\n",
    "print((rmse/len(dataset))**(1/2))"
   ]
  },
  {
   "cell_type": "code",
   "execution_count": null,
   "metadata": {
    "_uuid": "0bba1b74bd36a53fac900aa819f5f77d92f0a4fa"
   },
   "outputs": [],
   "source": [
    "## Replace NaN with mean\n",
    "dataset['Product_Category_2'] = dataset['Product_Category_2'].fillna(np.mean(dataset['Product_Category_2']))\n",
    "dataset['Product_Category_3'] = dataset['Product_Category_3'].fillna(np.mean(dataset['Product_Category_3']))"
   ]
  },
  {
   "cell_type": "code",
   "execution_count": null,
   "metadata": {},
   "outputs": [],
   "source": [
    "## Set up Target Variable and Independent Variable\n",
    "X = dataset.iloc[:, :-1]\n",
    "Y = dataset.iloc[:, -1]"
   ]
  },
  {
   "cell_type": "code",
   "execution_count": null,
   "metadata": {},
   "outputs": [],
   "source": [
    "## Split dataset into Training and Testing\n",
    "from sklearn.model_selection import train_test_split\n",
    "X_train, X_test, Y_train, Y_test = train_test_split(X,Y, test_size = 0.2)"
   ]
  },
  {
   "cell_type": "code",
   "execution_count": null,
   "metadata": {
    "_uuid": "65a8434827c8171a2c20ec7ac9c112092a0f2b7c"
   },
   "outputs": [],
   "source": [
    "Y_test = Y_test.reset_index()\n",
    "Y_test.drop('index', axis = 1, inplace = True)\n",
    "Y_test.head()"
   ]
  },
  {
   "cell_type": "code",
   "execution_count": null,
   "metadata": {
    "_cell_guid": "79c7e3d0-c299-4dcb-8224-4455121ee9b0",
    "_uuid": "d629ff2d2480ee46fbb7e2d37f6b5fab8052498a",
    "scrolled": true
   },
   "outputs": [],
   "source": [
    "# Label Encoding\n",
    "le = LabelEncoder()\n",
    "for i in X_train.columns:\n",
    "    X_train[i] = le.fit_transform(X_train[i])\n",
    "    X_test[i] = le.fit_transform(X_test[i])"
   ]
  },
  {
   "cell_type": "code",
   "execution_count": null,
   "metadata": {},
   "outputs": [],
   "source": [
    "# Setting up Model's Parameters\n",
    "dtrain = xgb.DMatrix(X_train, label=Y_train, missing=np.nan)"
   ]
  },
  {
   "cell_type": "code",
   "execution_count": null,
   "metadata": {},
   "outputs": [],
   "source": [
    "## Training the model with Default Parameters.\n",
    "num_round = 200\n",
    "clf = xgb.train(dtrain=dtrain,params={})\n",
    "dtest = xgb.DMatrix(X_test, missing=np.nan)"
   ]
  },
  {
   "cell_type": "code",
   "execution_count": null,
   "metadata": {},
   "outputs": [],
   "source": [
    "## Prediction\n",
    "test_preds = clf.predict(dtest)"
   ]
  },
  {
   "cell_type": "code",
   "execution_count": null,
   "metadata": {},
   "outputs": [],
   "source": [
    "## Loss functions calculation\n",
    "rmse = 0\n",
    "count=0\n",
    "for i in test_preds:\n",
    "    rmse += (i - Y_test['Purchase'][count])**2\n",
    "    count+=1\n",
    "print((rmse/len(Y_test))**(1/2))"
   ]
  },
  {
   "cell_type": "code",
   "execution_count": null,
   "metadata": {},
   "outputs": [],
   "source": [
    "import pickle as pkl\n",
    "pkl.dump(clf, open('xgb_model.pkl','wb'))\n",
    "xgb_model_api = pkl.load(open('xgb_model.pkl','rb'))"
   ]
  },
  {
   "cell_type": "code",
   "execution_count": null,
   "metadata": {},
   "outputs": [],
   "source": [
    "test = xgb.DMatrix(X_test, missing=np.nan)\n",
    "test_predictions = xgb_model_api.predict(test)"
   ]
  },
  {
   "cell_type": "code",
   "execution_count": null,
   "metadata": {},
   "outputs": [],
   "source": [
    "## Loss functions calculation\n",
    "rmse = 0\n",
    "count=0\n",
    "for i in test_preds:\n",
    "    rmse += (i - Y_test['Purchase'][count])**2\n",
    "    count+=1\n",
    "print((rmse/len(Y_test))**(1/2))"
   ]
  },
  {
   "cell_type": "code",
   "execution_count": null,
   "metadata": {
    "_uuid": "df91ea14e97787e8f50af0f3c583ddecbb5ad42a"
   },
   "outputs": [],
   "source": [
    "# Setting up Model's Parameters\n",
    "dtrain = xgb.DMatrix(X_train, label=Y_train, missing=np.nan)\n",
    "\n",
    "param = {'objective': 'reg:linear', 'booster': 'gbtree', 'silent': 1,\n",
    "         'max_depth': 100, 'eta': 0.1, 'nthread': 4,\n",
    "         'subsample': 0.8, 'colsample_bytree': 0.8, 'min_child_weight': 5,\n",
    "         'max_delta_step': 0, 'gamma': 0}\n",
    "\n",
    "num_round = 200"
   ]
  },
  {
   "cell_type": "code",
   "execution_count": null,
   "metadata": {
    "_uuid": "50ea05d2a2455fcf39eae5610b81dcfc78e0a213"
   },
   "outputs": [],
   "source": [
    "## Training the model.\n",
    "clf = xgb.train(param, dtrain, num_round)\n",
    "dtest = xgb.DMatrix(X_test, missing=np.nan)"
   ]
  },
  {
   "cell_type": "code",
   "execution_count": null,
   "metadata": {},
   "outputs": [],
   "source": [
    "## Prediction\n",
    "test_preds = clf.predict(dtest)"
   ]
  },
  {
   "cell_type": "code",
   "execution_count": null,
   "metadata": {},
   "outputs": [],
   "source": [
    "## Loss functions calculation\n",
    "rmse = 0\n",
    "count=0\n",
    "for i in test_preds:\n",
    "    rmse += (i - Y_test['Purchase'][count])**2\n",
    "    count+=1\n",
    "print((rmse/len(Y_test))**(1/2))\n"
   ]
  },
  {
   "cell_type": "code",
   "execution_count": null,
   "metadata": {},
   "outputs": [],
   "source": [
    "# Setting up Model's Parameters\n",
    "dtrain = xgb.DMatrix(X_train, label=Y_train, missing=np.nan)\n",
    "\n",
    "param = {'objective': 'reg:linear', 'booster': 'gbtree', 'silent': 1,\n",
    "         'max_depth': 150, 'eta': 0.1, 'nthread': 4,\n",
    "         'subsample': 0.8, 'colsample_bytree': 0.8, 'min_child_weight': 10,\n",
    "         'max_delta_step': 0, 'gamma': 0}\n",
    "num_round = 200"
   ]
  },
  {
   "cell_type": "code",
   "execution_count": null,
   "metadata": {},
   "outputs": [],
   "source": [
    "## Training the model.\n",
    "clf = xgb.train(param, dtrain, num_round)\n",
    "dtest = xgb.DMatrix(X_test, missing=np.nan)"
   ]
  },
  {
   "cell_type": "code",
   "execution_count": null,
   "metadata": {},
   "outputs": [],
   "source": [
    "## Prediction\n",
    "test_preds = clf.predict(dtest)"
   ]
  },
  {
   "cell_type": "code",
   "execution_count": null,
   "metadata": {},
   "outputs": [],
   "source": [
    "## Loss functions calculation\n",
    "rmse = 0\n",
    "count=0\n",
    "for i in test_preds:\n",
    "    rmse += (i - Y_test['Purchase'][count])**2\n",
    "    count+=1\n",
    "print((rmse/len(Y_test))**(1/2))\n"
   ]
  },
  {
   "cell_type": "code",
   "execution_count": null,
   "metadata": {
    "_uuid": "35335bc814a0d51c1ee85dc8c74f50a1a72684fd"
   },
   "outputs": [],
   "source": [
    "## custom root mean square function\n",
    "from keras import backend as K\n",
    "def root_mean_squared_error(y_true, y_pred):\n",
    "    return K.sqrt(K.mean(K.square(y_pred - y_true), axis=-1))"
   ]
  },
  {
   "cell_type": "code",
   "execution_count": null,
   "metadata": {
    "_uuid": "49f40fe4dc138bec0fd1df7bb07d6267fa0fed19"
   },
   "outputs": [],
   "source": [
    "## Neural Network\n",
    "import keras\n",
    "from keras.models import Sequential\n",
    "from keras.layers import Dense\n",
    "\n",
    "regressor = Sequential()\n",
    "regressor.add(Dense(units = X_train.shape[1], kernel_initializer = 'normal', \n",
    "                    activation = 'relu', input_dim = X_train.shape[1]))\n",
    "regressor.add(Dense(units = 64, kernel_initializer = 'normal', activation = 'relu'))\n",
    "regressor.add(Dense(units = 128, kernel_initializer = 'normal', activation = 'relu'))\n",
    "regressor.add(Dense(units = 1, kernel_initializer = 'normal', activation = 'relu'))\n",
    "regressor.compile(optimizer = \"rmsprop\", loss = root_mean_squared_error, metrics =[\"accuracy\"])\n",
    "regressor.fit(X_train, Y_train, batch_size = 75, epochs = 50)"
   ]
  },
  {
   "cell_type": "code",
   "execution_count": null,
   "metadata": {},
   "outputs": [],
   "source": [
    "from keras.models import load_model\n",
    "classifier.save(\"purchase_prediction.h5\")"
   ]
  },
  {
   "cell_type": "code",
   "execution_count": null,
   "metadata": {},
   "outputs": [],
   "source": [
    "regressor = load_model(\"purchase_prediction.h5\", custom_objects={'root_mean_squared_error':root_mean_squared_error})"
   ]
  }
 ],
 "metadata": {
  "kernelspec": {
   "display_name": "Python 3",
   "language": "python",
   "name": "python3"
  },
  "language_info": {
   "codemirror_mode": {
    "name": "ipython",
    "version": 3
   },
   "file_extension": ".py",
   "mimetype": "text/x-python",
   "name": "python",
   "nbconvert_exporter": "python",
   "pygments_lexer": "ipython3",
   "version": "3.6.8"
  }
 },
 "nbformat": 4,
 "nbformat_minor": 1
}
